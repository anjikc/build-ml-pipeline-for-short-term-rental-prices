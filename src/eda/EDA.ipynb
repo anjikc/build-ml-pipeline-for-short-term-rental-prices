{
 "cells": [
  {
   "cell_type": "markdown",
   "id": "75def023",
   "metadata": {},
   "source": [
    "## Notebook to perform EDA"
   ]
  },
  {
   "cell_type": "markdown",
   "id": "0d5d5d24",
   "metadata": {},
   "source": [
    "### Installing non existent libraries "
   ]
  },
  {
   "cell_type": "code",
   "execution_count": 1,
   "id": "7e5de6f1",
   "metadata": {},
   "outputs": [
    {
     "name": "stdout",
     "output_type": "stream",
     "text": [
      "Requirement already satisfied: wandb==0.12.17 in /home/anjik/miniconda3/envs/mlflow-29dcbd7bc197a4e304f759830390572a74ddc88e/lib/python3.9/site-packages (0.12.17)\n",
      "Requirement already satisfied: sentry-sdk>=1.0.0 in /home/anjik/miniconda3/envs/mlflow-29dcbd7bc197a4e304f759830390572a74ddc88e/lib/python3.9/site-packages (from wandb==0.12.17) (1.10.1)\n",
      "Requirement already satisfied: GitPython>=1.0.0 in /home/anjik/miniconda3/envs/mlflow-29dcbd7bc197a4e304f759830390572a74ddc88e/lib/python3.9/site-packages (from wandb==0.12.17) (3.1.29)\n",
      "Requirement already satisfied: psutil>=5.0.0 in /home/anjik/miniconda3/envs/mlflow-29dcbd7bc197a4e304f759830390572a74ddc88e/lib/python3.9/site-packages (from wandb==0.12.17) (5.9.3)\n",
      "Requirement already satisfied: setuptools in /home/anjik/miniconda3/envs/mlflow-29dcbd7bc197a4e304f759830390572a74ddc88e/lib/python3.9/site-packages (from wandb==0.12.17) (59.8.0)\n",
      "Requirement already satisfied: setproctitle in /home/anjik/miniconda3/envs/mlflow-29dcbd7bc197a4e304f759830390572a74ddc88e/lib/python3.9/site-packages (from wandb==0.12.17) (1.3.2)\n",
      "Requirement already satisfied: shortuuid>=0.5.0 in /home/anjik/miniconda3/envs/mlflow-29dcbd7bc197a4e304f759830390572a74ddc88e/lib/python3.9/site-packages (from wandb==0.12.17) (1.0.9)\n",
      "Requirement already satisfied: promise<3,>=2.0 in /home/anjik/miniconda3/envs/mlflow-29dcbd7bc197a4e304f759830390572a74ddc88e/lib/python3.9/site-packages (from wandb==0.12.17) (2.3)\n",
      "Requirement already satisfied: pathtools in /home/anjik/miniconda3/envs/mlflow-29dcbd7bc197a4e304f759830390572a74ddc88e/lib/python3.9/site-packages (from wandb==0.12.17) (0.1.2)\n",
      "Requirement already satisfied: requests<3,>=2.0.0 in /home/anjik/miniconda3/envs/mlflow-29dcbd7bc197a4e304f759830390572a74ddc88e/lib/python3.9/site-packages (from wandb==0.12.17) (2.28.1)\n",
      "Requirement already satisfied: python-dateutil>=2.6.1 in /home/anjik/miniconda3/envs/mlflow-29dcbd7bc197a4e304f759830390572a74ddc88e/lib/python3.9/site-packages (from wandb==0.12.17) (2.8.2)\n",
      "Requirement already satisfied: Click!=8.0.0,>=7.0 in /home/anjik/miniconda3/envs/mlflow-29dcbd7bc197a4e304f759830390572a74ddc88e/lib/python3.9/site-packages (from wandb==0.12.17) (8.1.3)\n",
      "Requirement already satisfied: six>=1.13.0 in /home/anjik/miniconda3/envs/mlflow-29dcbd7bc197a4e304f759830390572a74ddc88e/lib/python3.9/site-packages (from wandb==0.12.17) (1.16.0)\n",
      "Requirement already satisfied: PyYAML in /home/anjik/miniconda3/envs/mlflow-29dcbd7bc197a4e304f759830390572a74ddc88e/lib/python3.9/site-packages (from wandb==0.12.17) (6.0)\n",
      "Requirement already satisfied: docker-pycreds>=0.4.0 in /home/anjik/miniconda3/envs/mlflow-29dcbd7bc197a4e304f759830390572a74ddc88e/lib/python3.9/site-packages (from wandb==0.12.17) (0.4.0)\n",
      "Requirement already satisfied: protobuf<4.0dev,>=3.12.0 in /home/anjik/miniconda3/envs/mlflow-29dcbd7bc197a4e304f759830390572a74ddc88e/lib/python3.9/site-packages (from wandb==0.12.17) (3.19.6)\n",
      "Requirement already satisfied: gitdb<5,>=4.0.1 in /home/anjik/miniconda3/envs/mlflow-29dcbd7bc197a4e304f759830390572a74ddc88e/lib/python3.9/site-packages (from GitPython>=1.0.0->wandb==0.12.17) (4.0.9)\n",
      "Requirement already satisfied: smmap<6,>=3.0.1 in /home/anjik/miniconda3/envs/mlflow-29dcbd7bc197a4e304f759830390572a74ddc88e/lib/python3.9/site-packages (from gitdb<5,>=4.0.1->GitPython>=1.0.0->wandb==0.12.17) (5.0.0)\n",
      "Requirement already satisfied: urllib3<1.27,>=1.21.1 in /home/anjik/miniconda3/envs/mlflow-29dcbd7bc197a4e304f759830390572a74ddc88e/lib/python3.9/site-packages (from requests<3,>=2.0.0->wandb==0.12.17) (1.26.11)\n",
      "Requirement already satisfied: charset-normalizer<3,>=2 in /home/anjik/miniconda3/envs/mlflow-29dcbd7bc197a4e304f759830390572a74ddc88e/lib/python3.9/site-packages (from requests<3,>=2.0.0->wandb==0.12.17) (2.1.1)\n",
      "Requirement already satisfied: idna<4,>=2.5 in /home/anjik/miniconda3/envs/mlflow-29dcbd7bc197a4e304f759830390572a74ddc88e/lib/python3.9/site-packages (from requests<3,>=2.0.0->wandb==0.12.17) (3.4)\n",
      "Requirement already satisfied: certifi>=2017.4.17 in /home/anjik/miniconda3/envs/mlflow-29dcbd7bc197a4e304f759830390572a74ddc88e/lib/python3.9/site-packages (from requests<3,>=2.0.0->wandb==0.12.17) (2022.9.24)\n",
      "Note: you may need to restart the kernel to use updated packages.\n"
     ]
    }
   ],
   "source": [
    "pip install wandb==0.12.17"
   ]
  },
  {
   "cell_type": "markdown",
   "id": "36022c15",
   "metadata": {},
   "source": [
    "### Import packages and load data "
   ]
  },
  {
   "cell_type": "code",
   "execution_count": 2,
   "id": "cf3ce92a",
   "metadata": {},
   "outputs": [
    {
     "name": "stderr",
     "output_type": "stream",
     "text": [
      "\u001b[34m\u001b[1mwandb\u001b[0m: Currently logged in as: \u001b[33manjikc\u001b[0m. Use \u001b[1m`wandb login --relogin`\u001b[0m to force relogin\n"
     ]
    },
    {
     "data": {
      "text/html": [
       "wandb version 0.13.4 is available!  To upgrade, please run:\n",
       " $ pip install wandb --upgrade"
      ],
      "text/plain": [
       "<IPython.core.display.HTML object>"
      ]
     },
     "metadata": {},
     "output_type": "display_data"
    },
    {
     "data": {
      "text/html": [
       "Tracking run with wandb version 0.12.17"
      ],
      "text/plain": [
       "<IPython.core.display.HTML object>"
      ]
     },
     "metadata": {},
     "output_type": "display_data"
    },
    {
     "data": {
      "text/html": [
       "Run data is saved locally in <code>/mnt/c/Users/achow/Documents/Udacity_git/build-ml-pipeline-for-short-term-rental-prices/src/eda/wandb/run-20221027_021536-182r07rn</code>"
      ],
      "text/plain": [
       "<IPython.core.display.HTML object>"
      ]
     },
     "metadata": {},
     "output_type": "display_data"
    },
    {
     "data": {
      "text/html": [
       "Syncing run <strong><a href=\"https://wandb.ai/anjikc/nyc_airbnb/runs/182r07rn\" target=\"_blank\">polar-tree-4</a></strong> to <a href=\"https://wandb.ai/anjikc/nyc_airbnb\" target=\"_blank\">Weights & Biases</a> (<a href=\"https://wandb.me/run\" target=\"_blank\">docs</a>)<br/>"
      ],
      "text/plain": [
       "<IPython.core.display.HTML object>"
      ]
     },
     "metadata": {},
     "output_type": "display_data"
    }
   ],
   "source": [
    " import wandb\n",
    " import pandas as pd\n",
    "\n",
    " run = wandb.init(project=\"nyc_airbnb\", group=\"eda\", save_code=True)\n",
    " local_path = wandb.use_artifact(\"sample.csv:latest\").file()\n",
    " df = pd.read_csv(local_path)"
   ]
  },
  {
   "cell_type": "markdown",
   "id": "4c8e40b8",
   "metadata": {},
   "source": [
    "### Install pandas-profileing"
   ]
  },
  {
   "cell_type": "code",
   "execution_count": 3,
   "id": "9cf19ec9",
   "metadata": {},
   "outputs": [
    {
     "name": "stdout",
     "output_type": "stream",
     "text": [
      "Requirement already satisfied: pandas-profiling in /home/anjik/miniconda3/envs/mlflow-29dcbd7bc197a4e304f759830390572a74ddc88e/lib/python3.9/site-packages (2.7.1)\n",
      "Requirement already satisfied: ipywidgets>=7.5.1 in /home/anjik/miniconda3/envs/mlflow-29dcbd7bc197a4e304f759830390572a74ddc88e/lib/python3.9/site-packages (from pandas-profiling) (8.0.2)\n",
      "Requirement already satisfied: joblib in /home/anjik/miniconda3/envs/mlflow-29dcbd7bc197a4e304f759830390572a74ddc88e/lib/python3.9/site-packages (from pandas-profiling) (1.0.1)\n",
      "Requirement already satisfied: astropy>=4.0 in /home/anjik/miniconda3/envs/mlflow-29dcbd7bc197a4e304f759830390572a74ddc88e/lib/python3.9/site-packages (from pandas-profiling) (5.1.1)\n",
      "Requirement already satisfied: phik>=0.9.10 in /home/anjik/miniconda3/envs/mlflow-29dcbd7bc197a4e304f759830390572a74ddc88e/lib/python3.9/site-packages (from pandas-profiling) (0.12.2)\n",
      "Requirement already satisfied: tqdm>=4.43.0 in /home/anjik/miniconda3/envs/mlflow-29dcbd7bc197a4e304f759830390572a74ddc88e/lib/python3.9/site-packages (from pandas-profiling) (4.64.1)\n",
      "Requirement already satisfied: scipy>=1.4.1 in /home/anjik/miniconda3/envs/mlflow-29dcbd7bc197a4e304f759830390572a74ddc88e/lib/python3.9/site-packages (from pandas-profiling) (1.9.3)\n",
      "Requirement already satisfied: confuse>=1.0.0 in /home/anjik/miniconda3/envs/mlflow-29dcbd7bc197a4e304f759830390572a74ddc88e/lib/python3.9/site-packages (from pandas-profiling) (2.0.0)\n",
      "Requirement already satisfied: matplotlib>=3.2.0 in /home/anjik/miniconda3/envs/mlflow-29dcbd7bc197a4e304f759830390572a74ddc88e/lib/python3.9/site-packages (from pandas-profiling) (3.6.1)\n",
      "Requirement already satisfied: tangled-up-in-unicode>=0.0.4 in /home/anjik/miniconda3/envs/mlflow-29dcbd7bc197a4e304f759830390572a74ddc88e/lib/python3.9/site-packages (from pandas-profiling) (0.1.0)\n",
      "Requirement already satisfied: requests>=2.23.0 in /home/anjik/miniconda3/envs/mlflow-29dcbd7bc197a4e304f759830390572a74ddc88e/lib/python3.9/site-packages (from pandas-profiling) (2.28.1)\n",
      "Requirement already satisfied: jinja2>=2.11.1 in /home/anjik/miniconda3/envs/mlflow-29dcbd7bc197a4e304f759830390572a74ddc88e/lib/python3.9/site-packages (from pandas-profiling) (3.0.3)\n",
      "Requirement already satisfied: numpy>=1.16.0 in /home/anjik/miniconda3/envs/mlflow-29dcbd7bc197a4e304f759830390572a74ddc88e/lib/python3.9/site-packages (from pandas-profiling) (1.23.4)\n",
      "Requirement already satisfied: htmlmin>=0.1.12 in /home/anjik/miniconda3/envs/mlflow-29dcbd7bc197a4e304f759830390572a74ddc88e/lib/python3.9/site-packages (from pandas-profiling) (0.1.12)\n",
      "Requirement already satisfied: pandas!=1.0.0,!=1.0.1,!=1.0.2,>=0.25.3 in /home/anjik/miniconda3/envs/mlflow-29dcbd7bc197a4e304f759830390572a74ddc88e/lib/python3.9/site-packages (from pandas-profiling) (1.2.3)\n",
      "Requirement already satisfied: visions[type_image_path]==0.4.1 in /home/anjik/miniconda3/envs/mlflow-29dcbd7bc197a4e304f759830390572a74ddc88e/lib/python3.9/site-packages (from pandas-profiling) (0.4.1)\n",
      "Requirement already satisfied: missingno>=0.4.2 in /home/anjik/miniconda3/envs/mlflow-29dcbd7bc197a4e304f759830390572a74ddc88e/lib/python3.9/site-packages (from pandas-profiling) (0.4.2)\n",
      "Requirement already satisfied: attrs>=19.3.0 in /home/anjik/miniconda3/envs/mlflow-29dcbd7bc197a4e304f759830390572a74ddc88e/lib/python3.9/site-packages (from visions[type_image_path]==0.4.1->pandas-profiling) (22.1.0)\n",
      "Requirement already satisfied: networkx>=2.4 in /home/anjik/miniconda3/envs/mlflow-29dcbd7bc197a4e304f759830390572a74ddc88e/lib/python3.9/site-packages (from visions[type_image_path]==0.4.1->pandas-profiling) (2.8.7)\n",
      "Requirement already satisfied: imagehash in /home/anjik/miniconda3/envs/mlflow-29dcbd7bc197a4e304f759830390572a74ddc88e/lib/python3.9/site-packages (from visions[type_image_path]==0.4.1->pandas-profiling) (4.3.1)\n",
      "Requirement already satisfied: Pillow in /home/anjik/miniconda3/envs/mlflow-29dcbd7bc197a4e304f759830390572a74ddc88e/lib/python3.9/site-packages (from visions[type_image_path]==0.4.1->pandas-profiling) (9.2.0)\n",
      "Requirement already satisfied: PyYAML>=3.13 in /home/anjik/miniconda3/envs/mlflow-29dcbd7bc197a4e304f759830390572a74ddc88e/lib/python3.9/site-packages (from astropy>=4.0->pandas-profiling) (6.0)\n",
      "Requirement already satisfied: packaging>=19.0 in /home/anjik/miniconda3/envs/mlflow-29dcbd7bc197a4e304f759830390572a74ddc88e/lib/python3.9/site-packages (from astropy>=4.0->pandas-profiling) (21.3)\n",
      "Requirement already satisfied: pyerfa>=2.0 in /home/anjik/miniconda3/envs/mlflow-29dcbd7bc197a4e304f759830390572a74ddc88e/lib/python3.9/site-packages (from astropy>=4.0->pandas-profiling) (2.0.0.1)\n",
      "Requirement already satisfied: ipython>=6.1.0 in /home/anjik/miniconda3/envs/mlflow-29dcbd7bc197a4e304f759830390572a74ddc88e/lib/python3.9/site-packages (from ipywidgets>=7.5.1->pandas-profiling) (8.4.0)\n",
      "Requirement already satisfied: ipykernel>=4.5.1 in /home/anjik/miniconda3/envs/mlflow-29dcbd7bc197a4e304f759830390572a74ddc88e/lib/python3.9/site-packages (from ipywidgets>=7.5.1->pandas-profiling) (6.14.0)\n",
      "Requirement already satisfied: traitlets>=4.3.1 in /home/anjik/miniconda3/envs/mlflow-29dcbd7bc197a4e304f759830390572a74ddc88e/lib/python3.9/site-packages (from ipywidgets>=7.5.1->pandas-profiling) (5.5.0)\n",
      "Requirement already satisfied: widgetsnbextension~=4.0 in /home/anjik/miniconda3/envs/mlflow-29dcbd7bc197a4e304f759830390572a74ddc88e/lib/python3.9/site-packages (from ipywidgets>=7.5.1->pandas-profiling) (4.0.3)\n",
      "Requirement already satisfied: jupyterlab-widgets~=3.0 in /home/anjik/miniconda3/envs/mlflow-29dcbd7bc197a4e304f759830390572a74ddc88e/lib/python3.9/site-packages (from ipywidgets>=7.5.1->pandas-profiling) (3.0.3)\n",
      "Requirement already satisfied: jupyter-client>=6.1.12 in /home/anjik/miniconda3/envs/mlflow-29dcbd7bc197a4e304f759830390572a74ddc88e/lib/python3.9/site-packages (from ipykernel>=4.5.1->ipywidgets>=7.5.1->pandas-profiling) (7.4.4)\n",
      "Requirement already satisfied: nest-asyncio in /home/anjik/miniconda3/envs/mlflow-29dcbd7bc197a4e304f759830390572a74ddc88e/lib/python3.9/site-packages (from ipykernel>=4.5.1->ipywidgets>=7.5.1->pandas-profiling) (1.5.6)\n",
      "Requirement already satisfied: psutil in /home/anjik/miniconda3/envs/mlflow-29dcbd7bc197a4e304f759830390572a74ddc88e/lib/python3.9/site-packages (from ipykernel>=4.5.1->ipywidgets>=7.5.1->pandas-profiling) (5.9.3)\n",
      "Requirement already satisfied: debugpy>=1.0 in /home/anjik/miniconda3/envs/mlflow-29dcbd7bc197a4e304f759830390572a74ddc88e/lib/python3.9/site-packages (from ipykernel>=4.5.1->ipywidgets>=7.5.1->pandas-profiling) (1.6.3)\n",
      "Requirement already satisfied: matplotlib-inline>=0.1 in /home/anjik/miniconda3/envs/mlflow-29dcbd7bc197a4e304f759830390572a74ddc88e/lib/python3.9/site-packages (from ipykernel>=4.5.1->ipywidgets>=7.5.1->pandas-profiling) (0.1.6)\n",
      "Requirement already satisfied: tornado>=6.1 in /home/anjik/miniconda3/envs/mlflow-29dcbd7bc197a4e304f759830390572a74ddc88e/lib/python3.9/site-packages (from ipykernel>=4.5.1->ipywidgets>=7.5.1->pandas-profiling) (6.2)\n",
      "Requirement already satisfied: prompt-toolkit!=3.0.0,!=3.0.1,<3.1.0,>=2.0.0 in /home/anjik/miniconda3/envs/mlflow-29dcbd7bc197a4e304f759830390572a74ddc88e/lib/python3.9/site-packages (from ipython>=6.1.0->ipywidgets>=7.5.1->pandas-profiling) (3.0.31)\n",
      "Requirement already satisfied: jedi>=0.16 in /home/anjik/miniconda3/envs/mlflow-29dcbd7bc197a4e304f759830390572a74ddc88e/lib/python3.9/site-packages (from ipython>=6.1.0->ipywidgets>=7.5.1->pandas-profiling) (0.18.1)\n",
      "Requirement already satisfied: backcall in /home/anjik/miniconda3/envs/mlflow-29dcbd7bc197a4e304f759830390572a74ddc88e/lib/python3.9/site-packages (from ipython>=6.1.0->ipywidgets>=7.5.1->pandas-profiling) (0.2.0)\n",
      "Requirement already satisfied: pygments>=2.4.0 in /home/anjik/miniconda3/envs/mlflow-29dcbd7bc197a4e304f759830390572a74ddc88e/lib/python3.9/site-packages (from ipython>=6.1.0->ipywidgets>=7.5.1->pandas-profiling) (2.13.0)\n",
      "Requirement already satisfied: pexpect>4.3 in /home/anjik/miniconda3/envs/mlflow-29dcbd7bc197a4e304f759830390572a74ddc88e/lib/python3.9/site-packages (from ipython>=6.1.0->ipywidgets>=7.5.1->pandas-profiling) (4.8.0)\n",
      "Requirement already satisfied: pickleshare in /home/anjik/miniconda3/envs/mlflow-29dcbd7bc197a4e304f759830390572a74ddc88e/lib/python3.9/site-packages (from ipython>=6.1.0->ipywidgets>=7.5.1->pandas-profiling) (0.7.5)\n",
      "Requirement already satisfied: stack-data in /home/anjik/miniconda3/envs/mlflow-29dcbd7bc197a4e304f759830390572a74ddc88e/lib/python3.9/site-packages (from ipython>=6.1.0->ipywidgets>=7.5.1->pandas-profiling) (0.5.1)\n",
      "Requirement already satisfied: decorator in /home/anjik/miniconda3/envs/mlflow-29dcbd7bc197a4e304f759830390572a74ddc88e/lib/python3.9/site-packages (from ipython>=6.1.0->ipywidgets>=7.5.1->pandas-profiling) (5.1.1)\n",
      "Requirement already satisfied: setuptools>=18.5 in /home/anjik/miniconda3/envs/mlflow-29dcbd7bc197a4e304f759830390572a74ddc88e/lib/python3.9/site-packages (from ipython>=6.1.0->ipywidgets>=7.5.1->pandas-profiling) (59.8.0)\n",
      "Requirement already satisfied: parso<0.9.0,>=0.8.0 in /home/anjik/miniconda3/envs/mlflow-29dcbd7bc197a4e304f759830390572a74ddc88e/lib/python3.9/site-packages (from jedi>=0.16->ipython>=6.1.0->ipywidgets>=7.5.1->pandas-profiling) (0.8.3)\n",
      "Requirement already satisfied: MarkupSafe>=2.0 in /home/anjik/miniconda3/envs/mlflow-29dcbd7bc197a4e304f759830390572a74ddc88e/lib/python3.9/site-packages (from jinja2>=2.11.1->pandas-profiling) (2.0.1)\n",
      "Requirement already satisfied: pyzmq>=23.0 in /home/anjik/miniconda3/envs/mlflow-29dcbd7bc197a4e304f759830390572a74ddc88e/lib/python3.9/site-packages (from jupyter-client>=6.1.12->ipykernel>=4.5.1->ipywidgets>=7.5.1->pandas-profiling) (24.0.1)\n",
      "Requirement already satisfied: python-dateutil>=2.8.2 in /home/anjik/miniconda3/envs/mlflow-29dcbd7bc197a4e304f759830390572a74ddc88e/lib/python3.9/site-packages (from jupyter-client>=6.1.12->ipykernel>=4.5.1->ipywidgets>=7.5.1->pandas-profiling) (2.8.2)\n",
      "Requirement already satisfied: jupyter-core>=4.9.2 in /home/anjik/miniconda3/envs/mlflow-29dcbd7bc197a4e304f759830390572a74ddc88e/lib/python3.9/site-packages (from jupyter-client>=6.1.12->ipykernel>=4.5.1->ipywidgets>=7.5.1->pandas-profiling) (4.11.1)\n",
      "Requirement already satisfied: entrypoints in /home/anjik/miniconda3/envs/mlflow-29dcbd7bc197a4e304f759830390572a74ddc88e/lib/python3.9/site-packages (from jupyter-client>=6.1.12->ipykernel>=4.5.1->ipywidgets>=7.5.1->pandas-profiling) (0.4)\n"
     ]
    },
    {
     "name": "stdout",
     "output_type": "stream",
     "text": [
      "Requirement already satisfied: fonttools>=4.22.0 in /home/anjik/miniconda3/envs/mlflow-29dcbd7bc197a4e304f759830390572a74ddc88e/lib/python3.9/site-packages (from matplotlib>=3.2.0->pandas-profiling) (4.38.0)\n",
      "Requirement already satisfied: kiwisolver>=1.0.1 in /home/anjik/miniconda3/envs/mlflow-29dcbd7bc197a4e304f759830390572a74ddc88e/lib/python3.9/site-packages (from matplotlib>=3.2.0->pandas-profiling) (1.4.4)\n",
      "Requirement already satisfied: cycler>=0.10 in /home/anjik/miniconda3/envs/mlflow-29dcbd7bc197a4e304f759830390572a74ddc88e/lib/python3.9/site-packages (from matplotlib>=3.2.0->pandas-profiling) (0.11.0)\n",
      "Requirement already satisfied: pyparsing>=2.2.1 in /home/anjik/miniconda3/envs/mlflow-29dcbd7bc197a4e304f759830390572a74ddc88e/lib/python3.9/site-packages (from matplotlib>=3.2.0->pandas-profiling) (3.0.9)\n",
      "Requirement already satisfied: contourpy>=1.0.1 in /home/anjik/miniconda3/envs/mlflow-29dcbd7bc197a4e304f759830390572a74ddc88e/lib/python3.9/site-packages (from matplotlib>=3.2.0->pandas-profiling) (1.0.5)\n",
      "Requirement already satisfied: seaborn in /home/anjik/miniconda3/envs/mlflow-29dcbd7bc197a4e304f759830390572a74ddc88e/lib/python3.9/site-packages (from missingno>=0.4.2->pandas-profiling) (0.11.1)\n",
      "Requirement already satisfied: pytz>=2017.3 in /home/anjik/miniconda3/envs/mlflow-29dcbd7bc197a4e304f759830390572a74ddc88e/lib/python3.9/site-packages (from pandas!=1.0.0,!=1.0.1,!=1.0.2,>=0.25.3->pandas-profiling) (2022.5)\n",
      "Requirement already satisfied: ptyprocess>=0.5 in /home/anjik/miniconda3/envs/mlflow-29dcbd7bc197a4e304f759830390572a74ddc88e/lib/python3.9/site-packages (from pexpect>4.3->ipython>=6.1.0->ipywidgets>=7.5.1->pandas-profiling) (0.7.0)\n",
      "Requirement already satisfied: wcwidth in /home/anjik/miniconda3/envs/mlflow-29dcbd7bc197a4e304f759830390572a74ddc88e/lib/python3.9/site-packages (from prompt-toolkit!=3.0.0,!=3.0.1,<3.1.0,>=2.0.0->ipython>=6.1.0->ipywidgets>=7.5.1->pandas-profiling) (0.2.5)\n",
      "Requirement already satisfied: six>=1.5 in /home/anjik/miniconda3/envs/mlflow-29dcbd7bc197a4e304f759830390572a74ddc88e/lib/python3.9/site-packages (from python-dateutil>=2.8.2->jupyter-client>=6.1.12->ipykernel>=4.5.1->ipywidgets>=7.5.1->pandas-profiling) (1.16.0)\n",
      "Requirement already satisfied: charset-normalizer<3,>=2 in /home/anjik/miniconda3/envs/mlflow-29dcbd7bc197a4e304f759830390572a74ddc88e/lib/python3.9/site-packages (from requests>=2.23.0->pandas-profiling) (2.1.1)\n",
      "Requirement already satisfied: certifi>=2017.4.17 in /home/anjik/miniconda3/envs/mlflow-29dcbd7bc197a4e304f759830390572a74ddc88e/lib/python3.9/site-packages (from requests>=2.23.0->pandas-profiling) (2022.9.24)\n",
      "Requirement already satisfied: urllib3<1.27,>=1.21.1 in /home/anjik/miniconda3/envs/mlflow-29dcbd7bc197a4e304f759830390572a74ddc88e/lib/python3.9/site-packages (from requests>=2.23.0->pandas-profiling) (1.26.11)\n",
      "Requirement already satisfied: idna<4,>=2.5 in /home/anjik/miniconda3/envs/mlflow-29dcbd7bc197a4e304f759830390572a74ddc88e/lib/python3.9/site-packages (from requests>=2.23.0->pandas-profiling) (3.4)\n",
      "Requirement already satisfied: PyWavelets in /home/anjik/miniconda3/envs/mlflow-29dcbd7bc197a4e304f759830390572a74ddc88e/lib/python3.9/site-packages (from imagehash->visions[type_image_path]==0.4.1->pandas-profiling) (1.3.0)\n",
      "Requirement already satisfied: executing in /home/anjik/miniconda3/envs/mlflow-29dcbd7bc197a4e304f759830390572a74ddc88e/lib/python3.9/site-packages (from stack-data->ipython>=6.1.0->ipywidgets>=7.5.1->pandas-profiling) (1.1.1)\n",
      "Requirement already satisfied: pure-eval in /home/anjik/miniconda3/envs/mlflow-29dcbd7bc197a4e304f759830390572a74ddc88e/lib/python3.9/site-packages (from stack-data->ipython>=6.1.0->ipywidgets>=7.5.1->pandas-profiling) (0.2.2)\n",
      "Requirement already satisfied: asttokens in /home/anjik/miniconda3/envs/mlflow-29dcbd7bc197a4e304f759830390572a74ddc88e/lib/python3.9/site-packages (from stack-data->ipython>=6.1.0->ipywidgets>=7.5.1->pandas-profiling) (2.0.8)\n"
     ]
    }
   ],
   "source": [
    "!pip install pandas-profiling"
   ]
  },
  {
   "cell_type": "code",
   "execution_count": 4,
   "id": "08f42dc2",
   "metadata": {},
   "outputs": [],
   "source": [
    "import pandas_profiling\n",
    "\n"
   ]
  },
  {
   "cell_type": "markdown",
   "id": "8362d164",
   "metadata": {},
   "source": [
    "### Inspect the data"
   ]
  },
  {
   "cell_type": "code",
   "execution_count": 5,
   "id": "4d33fcab",
   "metadata": {},
   "outputs": [
    {
     "data": {
      "application/vnd.jupyter.widget-view+json": {
       "model_id": "19a979bec11f4172a51d6c62b499b16f",
       "version_major": 2,
       "version_minor": 0
      },
      "text/plain": [
       "Summarize dataset:   0%|          | 0/28 [00:00<?, ?it/s]"
      ]
     },
     "metadata": {},
     "output_type": "display_data"
    },
    {
     "data": {
      "application/vnd.jupyter.widget-view+json": {
       "model_id": "f335b9ba13ed4dd981d99c6ccad2ecf6",
       "version_major": 2,
       "version_minor": 0
      },
      "text/plain": [
       "Generate report structure:   0%|          | 0/1 [00:00<?, ?it/s]"
      ]
     },
     "metadata": {},
     "output_type": "display_data"
    },
    {
     "data": {
      "application/vnd.jupyter.widget-view+json": {
       "model_id": "",
       "version_major": 2,
       "version_minor": 0
      },
      "text/plain": [
       "Render widgets:   0%|          | 0/1 [00:00<?, ?it/s]"
      ]
     },
     "metadata": {},
     "output_type": "display_data"
    },
    {
     "data": {
      "application/vnd.jupyter.widget-view+json": {
       "model_id": "167d5fbef69649329005a9721030c9a9",
       "version_major": 2,
       "version_minor": 0
      },
      "text/plain": [
       "VBox(children=(Tab(children=(Tab(children=(GridBox(children=(VBox(children=(GridspecLayout(children=(HTML(valu…"
      ]
     },
     "metadata": {},
     "output_type": "display_data"
    }
   ],
   "source": [
    "profile = pandas_profiling.ProfileReport(df)\n",
    "profile.to_widgets()"
   ]
  },
  {
   "cell_type": "markdown",
   "id": "30e7e261",
   "metadata": {},
   "source": [
    "### Drop Outliers"
   ]
  },
  {
   "cell_type": "code",
   "execution_count": 6,
   "id": "3398a385",
   "metadata": {},
   "outputs": [],
   "source": [
    "# Drop outliers\n",
    "min_price = 10\n",
    "max_price = 350\n",
    "idx = df['price'].between(min_price, max_price)\n",
    "df = df[idx].copy()\n",
    "# Convert last_review to datetime\n",
    "df['last_review'] = pd.to_datetime(df['last_review'])"
   ]
  },
  {
   "cell_type": "markdown",
   "id": "6f11bdb3",
   "metadata": {},
   "source": [
    "### Finish Run"
   ]
  },
  {
   "cell_type": "code",
   "execution_count": 7,
   "id": "e3acac1a",
   "metadata": {},
   "outputs": [
    {
     "data": {
      "text/html": [
       "Waiting for W&B process to finish... <strong style=\"color:green\">(success).</strong>"
      ],
      "text/plain": [
       "<IPython.core.display.HTML object>"
      ]
     },
     "metadata": {},
     "output_type": "display_data"
    },
    {
     "data": {
      "application/vnd.jupyter.widget-view+json": {
       "model_id": "",
       "version_major": 2,
       "version_minor": 0
      },
      "text/plain": [
       "VBox(children=(Label(value='19.953 MB of 19.953 MB uploaded (0.000 MB deduped)\\r'), FloatProgress(value=1.0, m…"
      ]
     },
     "metadata": {},
     "output_type": "display_data"
    },
    {
     "data": {
      "text/html": [
       "Synced <strong style=\"color:#cdcd00\">polar-tree-4</strong>: <a href=\"https://wandb.ai/anjikc/nyc_airbnb/runs/182r07rn\" target=\"_blank\">https://wandb.ai/anjikc/nyc_airbnb/runs/182r07rn</a><br/>Synced 7 W&B file(s), 0 media file(s), 4 artifact file(s) and 1 other file(s)"
      ],
      "text/plain": [
       "<IPython.core.display.HTML object>"
      ]
     },
     "metadata": {},
     "output_type": "display_data"
    },
    {
     "data": {
      "text/html": [
       "Find logs at: <code>./wandb/run-20221027_021536-182r07rn/logs</code>"
      ],
      "text/plain": [
       "<IPython.core.display.HTML object>"
      ]
     },
     "metadata": {},
     "output_type": "display_data"
    }
   ],
   "source": [
    "run.finish()"
   ]
  },
  {
   "cell_type": "code",
   "execution_count": null,
   "id": "7c1c610c",
   "metadata": {},
   "outputs": [],
   "source": []
  }
 ],
 "metadata": {
  "kernelspec": {
   "display_name": "Python 3.8.0 64-bit",
   "language": "python",
   "name": "python3"
  },
  "language_info": {
   "codemirror_mode": {
    "name": "ipython",
    "version": 3
   },
   "file_extension": ".py",
   "mimetype": "text/x-python",
   "name": "python",
   "nbconvert_exporter": "python",
   "pygments_lexer": "ipython3",
   "version": "3.8.0"
  },
  "vscode": {
   "interpreter": {
    "hash": "26ed3a4a27ad4d13edec8e411b027fb67d19d59444b592f9be0b2cd8da3b9833"
   }
  }
 },
 "nbformat": 4,
 "nbformat_minor": 5
}
